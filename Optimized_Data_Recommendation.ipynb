{
  "cells": [
    {
      "cell_type": "code",
      "execution_count": null,
      "id": "e7763c66-31e7-4685-8aa5-f9f0b2bff360",
      "metadata": {
        "id": "e7763c66-31e7-4685-8aa5-f9f0b2bff360"
      },
      "outputs": [],
      "source": [
        "import pandas as pd\n",
        "import os\n",
        "import ast"
      ]
    },
    {
      "cell_type": "code",
      "execution_count": null,
      "id": "559cbb72-8395-42f9-962b-7c3681f30b59",
      "metadata": {
        "id": "559cbb72-8395-42f9-962b-7c3681f30b59"
      },
      "outputs": [],
      "source": [
        "from extract_youtube_song_feature import get_prob_using_youtube\n",
        "from reclassify_recommendation_data import reclassify_and_get_recommendation_data\n",
        "from sklearn.metrics.pairwise import cosine_similarity"
      ]
    },
    {
      "cell_type": "code",
      "execution_count": null,
      "id": "a892598e-069b-4809-8682-c01e2afa6ee0",
      "metadata": {
        "id": "a892598e-069b-4809-8682-c01e2afa6ee0"
      },
      "outputs": [],
      "source": [
        "youtube_url = \"https://www.youtube.com/watch?v=sV2t3tW_JTQ\""
      ]
    },
    {
      "cell_type": "markdown",
      "source": [
        "get_prob_using_youtube performs following tasks -\n",
        "* Download youtube song features using youtube url using pytubefix.\n",
        "* Extract features for our model using librosa.\n",
        "* Get genre probabilities using our optimized model.\n",
        "\n"
      ],
      "metadata": {
        "id": "6zRY649q8c9q"
      },
      "id": "6zRY649q8c9q"
    },
    {
      "cell_type": "code",
      "execution_count": null,
      "id": "e712f8e3-9616-495e-9f8b-ba84b196a9d4",
      "metadata": {
        "id": "e712f8e3-9616-495e-9f8b-ba84b196a9d4",
        "outputId": "79d4d5e0-22f9-4aaf-ed7f-868792b55e61"
      },
      "outputs": [
        {
          "name": "stdout",
          "output_type": "stream",
          "text": [
            "✅ Model loaded successfully\n",
            "21 Savage - Bank Account (Official Audio) has been successfully downloaded.\n"
          ]
        },
        {
          "name": "stderr",
          "output_type": "stream",
          "text": [
            "/Users/prateeksharma/Documents/257 Final Submission Genre Classification Recommendation/Notebooks/extract_youtube_song_feature.py:73: UserWarning: PySoundFile failed. Trying audioread instead.\n",
            "  x, sr = librosa.load(\"song.wav\", sr=None, mono=True)\n",
            "/Users/prateeksharma/Documents/257 Final Submission Genre Classification Recommendation/Notebooks/extract_youtube_song_feature.py:64: FutureWarning: Setting an item of incompatible dtype is deprecated and will raise an error in a future version of pandas. Value '[0.02900229]' has dtype incompatible with float32, please explicitly cast to a compatible dtype first.\n",
            "  features[name, 'mean'] = np.mean(values, axis=1)\n"
          ]
        }
      ],
      "source": [
        "youtube_song_prob = get_prob_using_youtube(youtube_url)"
      ]
    },
    {
      "cell_type": "code",
      "execution_count": null,
      "id": "f4d9a02c-4154-44e7-81e5-b9c17258a225",
      "metadata": {
        "id": "f4d9a02c-4154-44e7-81e5-b9c17258a225",
        "outputId": "72e4d904-420a-4193-b0d8-5e352b481993"
      },
      "outputs": [
        {
          "data": {
            "text/html": [
              "<div>\n",
              "<style scoped>\n",
              "    .dataframe tbody tr th:only-of-type {\n",
              "        vertical-align: middle;\n",
              "    }\n",
              "\n",
              "    .dataframe tbody tr th {\n",
              "        vertical-align: top;\n",
              "    }\n",
              "\n",
              "    .dataframe thead th {\n",
              "        text-align: right;\n",
              "    }\n",
              "</style>\n",
              "<table border=\"1\" class=\"dataframe\">\n",
              "  <thead>\n",
              "    <tr style=\"text-align: right;\">\n",
              "      <th></th>\n",
              "      <th>Rock</th>\n",
              "      <th>Electronic</th>\n",
              "      <th>Pop</th>\n",
              "      <th>Hip-Hop</th>\n",
              "      <th>Folk</th>\n",
              "    </tr>\n",
              "  </thead>\n",
              "  <tbody>\n",
              "    <tr>\n",
              "      <th>0</th>\n",
              "      <td>0.01954</td>\n",
              "      <td>0.069662</td>\n",
              "      <td>0.025742</td>\n",
              "      <td>0.877906</td>\n",
              "      <td>0.00715</td>\n",
              "    </tr>\n",
              "  </tbody>\n",
              "</table>\n",
              "</div>"
            ],
            "text/plain": [
              "      Rock  Electronic       Pop   Hip-Hop     Folk\n",
              "0  0.01954    0.069662  0.025742  0.877906  0.00715"
            ]
          },
          "execution_count": 8,
          "metadata": {},
          "output_type": "execute_result"
        }
      ],
      "source": [
        "youtube_song_prob"
      ]
    },
    {
      "cell_type": "markdown",
      "source": [
        "reclassify_and_get_recommendation_data performs following tasks -\n",
        "* Reclassify tracks with genres other than Hip-Hop, Rock, Pop, Electronic and Folk, as well as tracks with missing genre values.\n",
        "\n",
        "* Merge reclassification data with popularity metadata - listens, interest, favorites."
      ],
      "metadata": {
        "id": "3pMkSrZk9VKs"
      },
      "id": "3pMkSrZk9VKs"
    },
    {
      "cell_type": "code",
      "execution_count": null,
      "id": "73d4aaf1-fa59-4c68-b259-79ba3b738d7b",
      "metadata": {
        "id": "73d4aaf1-fa59-4c68-b259-79ba3b738d7b"
      },
      "outputs": [],
      "source": [
        "recommendation_data = reclassify_and_get_recommendation_data()"
      ]
    },
    {
      "cell_type": "code",
      "execution_count": null,
      "id": "d9181a71-41df-4eab-b468-2379d716b242",
      "metadata": {
        "id": "d9181a71-41df-4eab-b468-2379d716b242",
        "outputId": "ddec6929-bcf5-4f07-a028-d6eb88c4f664"
      },
      "outputs": [
        {
          "data": {
            "text/html": [
              "<div>\n",
              "<style scoped>\n",
              "    .dataframe tbody tr th:only-of-type {\n",
              "        vertical-align: middle;\n",
              "    }\n",
              "\n",
              "    .dataframe tbody tr th {\n",
              "        vertical-align: top;\n",
              "    }\n",
              "\n",
              "    .dataframe thead th {\n",
              "        text-align: right;\n",
              "    }\n",
              "</style>\n",
              "<table border=\"1\" class=\"dataframe\">\n",
              "  <thead>\n",
              "    <tr style=\"text-align: right;\">\n",
              "      <th></th>\n",
              "      <th>Rock</th>\n",
              "      <th>Electronic</th>\n",
              "      <th>Pop</th>\n",
              "      <th>Hip-Hop</th>\n",
              "      <th>Folk</th>\n",
              "      <th>listens</th>\n",
              "      <th>favorites</th>\n",
              "      <th>interest</th>\n",
              "    </tr>\n",
              "    <tr>\n",
              "      <th>track_id</th>\n",
              "      <th></th>\n",
              "      <th></th>\n",
              "      <th></th>\n",
              "      <th></th>\n",
              "      <th></th>\n",
              "      <th></th>\n",
              "      <th></th>\n",
              "      <th></th>\n",
              "    </tr>\n",
              "  </thead>\n",
              "  <tbody>\n",
              "    <tr>\n",
              "      <th>20</th>\n",
              "      <td>0.257002</td>\n",
              "      <td>0.125194</td>\n",
              "      <td>0.163086</td>\n",
              "      <td>0.037696</td>\n",
              "      <td>0.417022</td>\n",
              "      <td>361</td>\n",
              "      <td>0</td>\n",
              "      <td>978</td>\n",
              "    </tr>\n",
              "    <tr>\n",
              "      <th>26</th>\n",
              "      <td>0.118131</td>\n",
              "      <td>0.064750</td>\n",
              "      <td>0.321094</td>\n",
              "      <td>0.045405</td>\n",
              "      <td>0.450619</td>\n",
              "      <td>193</td>\n",
              "      <td>0</td>\n",
              "      <td>1060</td>\n",
              "    </tr>\n",
              "    <tr>\n",
              "      <th>30</th>\n",
              "      <td>0.142537</td>\n",
              "      <td>0.122378</td>\n",
              "      <td>0.454565</td>\n",
              "      <td>0.035769</td>\n",
              "      <td>0.244751</td>\n",
              "      <td>612</td>\n",
              "      <td>0</td>\n",
              "      <td>718</td>\n",
              "    </tr>\n",
              "    <tr>\n",
              "      <th>46</th>\n",
              "      <td>0.034783</td>\n",
              "      <td>0.038007</td>\n",
              "      <td>0.361828</td>\n",
              "      <td>0.002768</td>\n",
              "      <td>0.562613</td>\n",
              "      <td>171</td>\n",
              "      <td>0</td>\n",
              "      <td>252</td>\n",
              "    </tr>\n",
              "    <tr>\n",
              "      <th>48</th>\n",
              "      <td>0.212671</td>\n",
              "      <td>0.083119</td>\n",
              "      <td>0.235224</td>\n",
              "      <td>0.016218</td>\n",
              "      <td>0.452768</td>\n",
              "      <td>173</td>\n",
              "      <td>0</td>\n",
              "      <td>247</td>\n",
              "    </tr>\n",
              "    <tr>\n",
              "      <th>...</th>\n",
              "      <td>...</td>\n",
              "      <td>...</td>\n",
              "      <td>...</td>\n",
              "      <td>...</td>\n",
              "      <td>...</td>\n",
              "      <td>...</td>\n",
              "      <td>...</td>\n",
              "      <td>...</td>\n",
              "    </tr>\n",
              "    <tr>\n",
              "      <th>155309</th>\n",
              "      <td>0.399393</td>\n",
              "      <td>0.099351</td>\n",
              "      <td>0.307394</td>\n",
              "      <td>0.061082</td>\n",
              "      <td>0.132779</td>\n",
              "      <td>79</td>\n",
              "      <td>0</td>\n",
              "      <td>90</td>\n",
              "    </tr>\n",
              "    <tr>\n",
              "      <th>155310</th>\n",
              "      <td>0.450586</td>\n",
              "      <td>0.036552</td>\n",
              "      <td>0.297130</td>\n",
              "      <td>0.080286</td>\n",
              "      <td>0.135446</td>\n",
              "      <td>84</td>\n",
              "      <td>0</td>\n",
              "      <td>94</td>\n",
              "    </tr>\n",
              "    <tr>\n",
              "      <th>155311</th>\n",
              "      <td>0.624200</td>\n",
              "      <td>0.025582</td>\n",
              "      <td>0.142246</td>\n",
              "      <td>0.028306</td>\n",
              "      <td>0.179666</td>\n",
              "      <td>171</td>\n",
              "      <td>0</td>\n",
              "      <td>187</td>\n",
              "    </tr>\n",
              "    <tr>\n",
              "      <th>155312</th>\n",
              "      <td>0.253352</td>\n",
              "      <td>0.308128</td>\n",
              "      <td>0.226864</td>\n",
              "      <td>0.148033</td>\n",
              "      <td>0.063623</td>\n",
              "      <td>219</td>\n",
              "      <td>0</td>\n",
              "      <td>230</td>\n",
              "    </tr>\n",
              "    <tr>\n",
              "      <th>155320</th>\n",
              "      <td>0.837859</td>\n",
              "      <td>0.046604</td>\n",
              "      <td>0.099830</td>\n",
              "      <td>0.010832</td>\n",
              "      <td>0.004875</td>\n",
              "      <td>705</td>\n",
              "      <td>1</td>\n",
              "      <td>972</td>\n",
              "    </tr>\n",
              "  </tbody>\n",
              "</table>\n",
              "<p>74329 rows × 8 columns</p>\n",
              "</div>"
            ],
            "text/plain": [
              "              Rock  Electronic       Pop   Hip-Hop      Folk  listens  \\\n",
              "track_id                                                                \n",
              "20        0.257002    0.125194  0.163086  0.037696  0.417022      361   \n",
              "26        0.118131    0.064750  0.321094  0.045405  0.450619      193   \n",
              "30        0.142537    0.122378  0.454565  0.035769  0.244751      612   \n",
              "46        0.034783    0.038007  0.361828  0.002768  0.562613      171   \n",
              "48        0.212671    0.083119  0.235224  0.016218  0.452768      173   \n",
              "...            ...         ...       ...       ...       ...      ...   \n",
              "155309    0.399393    0.099351  0.307394  0.061082  0.132779       79   \n",
              "155310    0.450586    0.036552  0.297130  0.080286  0.135446       84   \n",
              "155311    0.624200    0.025582  0.142246  0.028306  0.179666      171   \n",
              "155312    0.253352    0.308128  0.226864  0.148033  0.063623      219   \n",
              "155320    0.837859    0.046604  0.099830  0.010832  0.004875      705   \n",
              "\n",
              "          favorites  interest  \n",
              "track_id                       \n",
              "20                0       978  \n",
              "26                0      1060  \n",
              "30                0       718  \n",
              "46                0       252  \n",
              "48                0       247  \n",
              "...             ...       ...  \n",
              "155309            0        90  \n",
              "155310            0        94  \n",
              "155311            0       187  \n",
              "155312            0       230  \n",
              "155320            1       972  \n",
              "\n",
              "[74329 rows x 8 columns]"
            ]
          },
          "execution_count": 10,
          "metadata": {},
          "output_type": "execute_result"
        }
      ],
      "source": [
        "recommendation_data"
      ]
    },
    {
      "cell_type": "code",
      "execution_count": null,
      "id": "231a50b3-4493-4c0e-8335-091851ac16d5",
      "metadata": {
        "id": "231a50b3-4493-4c0e-8335-091851ac16d5",
        "outputId": "0638778d-8504-44f2-d340-b26af2ba45c3"
      },
      "outputs": [
        {
          "data": {
            "text/html": [
              "<div>\n",
              "<style scoped>\n",
              "    .dataframe tbody tr th:only-of-type {\n",
              "        vertical-align: middle;\n",
              "    }\n",
              "\n",
              "    .dataframe tbody tr th {\n",
              "        vertical-align: top;\n",
              "    }\n",
              "\n",
              "    .dataframe thead th {\n",
              "        text-align: right;\n",
              "    }\n",
              "</style>\n",
              "<table border=\"1\" class=\"dataframe\">\n",
              "  <thead>\n",
              "    <tr style=\"text-align: right;\">\n",
              "      <th></th>\n",
              "      <th>Rock</th>\n",
              "      <th>Electronic</th>\n",
              "      <th>Pop</th>\n",
              "      <th>Hip-Hop</th>\n",
              "      <th>Folk</th>\n",
              "    </tr>\n",
              "  </thead>\n",
              "  <tbody>\n",
              "    <tr>\n",
              "      <th>0</th>\n",
              "      <td>0.01954</td>\n",
              "      <td>0.069662</td>\n",
              "      <td>0.025742</td>\n",
              "      <td>0.877906</td>\n",
              "      <td>0.00715</td>\n",
              "    </tr>\n",
              "  </tbody>\n",
              "</table>\n",
              "</div>"
            ],
            "text/plain": [
              "      Rock  Electronic       Pop   Hip-Hop     Folk\n",
              "0  0.01954    0.069662  0.025742  0.877906  0.00715"
            ]
          },
          "execution_count": 11,
          "metadata": {},
          "output_type": "execute_result"
        }
      ],
      "source": [
        "youtube_song_prob"
      ]
    },
    {
      "cell_type": "markdown",
      "source": [
        "Main Recommendation Approach\n",
        "\n",
        "\n",
        "*   Cosine similarity to find songs in our database which have similar genre probabilities of new song.\n"
      ],
      "metadata": {
        "id": "9YuUkHHm-eE-"
      },
      "id": "9YuUkHHm-eE-"
    },
    {
      "cell_type": "code",
      "execution_count": null,
      "id": "a8827334-fcdd-40f7-b339-c6db2b1d222a",
      "metadata": {
        "id": "a8827334-fcdd-40f7-b339-c6db2b1d222a"
      },
      "outputs": [],
      "source": [
        "new_song_similarities = cosine_similarity(youtube_song_prob,recommendation_data[recommendation_data.columns[:5]])\n",
        "recommendation_data[\"cosine_similarity\"] = new_song_similarities[0]"
      ]
    },
    {
      "cell_type": "markdown",
      "source": [
        "\n",
        "\n",
        "*  A low average cosine similarity across different genres indicates that our model is effectively distinguishing genres and is recommending songs with truly similar properties within the correct genre clusters.\n"
      ],
      "metadata": {
        "id": "6Dkmlu3q-0Qo"
      },
      "id": "6Dkmlu3q-0Qo"
    },
    {
      "cell_type": "code",
      "execution_count": null,
      "id": "5393e652-4f8d-44bc-988f-34b7c4b211f7",
      "metadata": {
        "id": "5393e652-4f8d-44bc-988f-34b7c4b211f7",
        "outputId": "d05354b6-4e6e-42ab-b564-f26f4297318c"
      },
      "outputs": [
        {
          "data": {
            "text/plain": [
              "0.17460339"
            ]
          },
          "execution_count": 14,
          "metadata": {},
          "output_type": "execute_result"
        }
      ],
      "source": [
        "recommendation_data[\"cosine_similarity\"].mean()"
      ]
    },
    {
      "cell_type": "markdown",
      "source": [
        "* Normalizing popularity metadata to bring them to the same scale, so that no single feature dominates the others.\n",
        "\n"
      ],
      "metadata": {
        "id": "aSQlVPOB_scF"
      },
      "id": "aSQlVPOB_scF"
    },
    {
      "cell_type": "code",
      "execution_count": null,
      "id": "05103989-1ca1-4755-a7aa-935d93133786",
      "metadata": {
        "id": "05103989-1ca1-4755-a7aa-935d93133786"
      },
      "outputs": [],
      "source": [
        "normalized_features = pd.DataFrame(columns=[\"normalized_listens\",\"normalized_favorites\",\"normalized_interest\"],index=recommendation_data.index)"
      ]
    },
    {
      "cell_type": "code",
      "execution_count": null,
      "id": "3e1f928b-426d-4e95-86b6-2e22a6fc32b2",
      "metadata": {
        "id": "3e1f928b-426d-4e95-86b6-2e22a6fc32b2"
      },
      "outputs": [],
      "source": [
        "from sklearn.preprocessing import MinMaxScaler\n",
        "\n",
        "scaler = MinMaxScaler()\n",
        "normalized_features['normalized_listens'] = scaler.fit_transform(recommendation_data[['listens']])[:, 0]\n",
        "normalized_features['normalized_favorites'] = scaler.fit_transform(recommendation_data[['favorites']])[:, 0]\n",
        "normalized_features['normalized_interest'] = scaler.fit_transform(recommendation_data[['interest']])[:, 0]\n"
      ]
    },
    {
      "cell_type": "code",
      "execution_count": null,
      "id": "50870135-c79f-498f-bf85-352705d0361b",
      "metadata": {
        "id": "50870135-c79f-498f-bf85-352705d0361b"
      },
      "outputs": [],
      "source": [
        "recommendation_data[\"popularity_score\"] = (0.5 * normalized_features[\"normalized_listens\"]\n",
        "               + 0.3 * normalized_features[\"normalized_favorites\"]\n",
        "               + 0.2 * normalized_features[\"normalized_interest\"])"
      ]
    },
    {
      "cell_type": "markdown",
      "source": [
        "* Getting top 10 recommendations\n",
        "\n"
      ],
      "metadata": {
        "id": "PVzsb0xzAIZc"
      },
      "id": "PVzsb0xzAIZc"
    },
    {
      "cell_type": "code",
      "execution_count": null,
      "id": "4390b640-bc70-4f6c-8243-034ad4e8c1cc",
      "metadata": {
        "id": "4390b640-bc70-4f6c-8243-034ad4e8c1cc"
      },
      "outputs": [],
      "source": [
        "top_recommendations = recommendation_data.nlargest(10, \"cosine_similarity\").copy()"
      ]
    },
    {
      "cell_type": "markdown",
      "source": [
        "* Sorting top 10 recommendation based on popularity.\n",
        "\n"
      ],
      "metadata": {
        "id": "FiVaZxvKAeBE"
      },
      "id": "FiVaZxvKAeBE"
    },
    {
      "cell_type": "code",
      "execution_count": null,
      "id": "228ead38-095f-4d38-976e-77d5d52cb3a4",
      "metadata": {
        "id": "228ead38-095f-4d38-976e-77d5d52cb3a4"
      },
      "outputs": [],
      "source": [
        "final_recommendations = top_recommendations.sort_values(\"popularity_score\", ascending=False)"
      ]
    },
    {
      "cell_type": "code",
      "execution_count": null,
      "id": "9cfac71f-753e-49f4-9cea-c669a8bffbb4",
      "metadata": {
        "id": "9cfac71f-753e-49f4-9cea-c669a8bffbb4"
      },
      "outputs": [],
      "source": [
        "track_title_artist = pd.read_csv(\"../Data/track_title_artist_metadata.csv\",index_col=\"track_id\")"
      ]
    },
    {
      "cell_type": "markdown",
      "source": [
        "**Recommendations**"
      ],
      "metadata": {
        "id": "-K-_oC7gCddU"
      },
      "id": "-K-_oC7gCddU"
    },
    {
      "cell_type": "code",
      "execution_count": null,
      "id": "5422535f-d529-4ba3-8317-e1592f5bf783",
      "metadata": {
        "id": "5422535f-d529-4ba3-8317-e1592f5bf783",
        "outputId": "c67a42b7-078f-4d88-930f-b27e9c3c07ad"
      },
      "outputs": [
        {
          "data": {
            "text/html": [
              "<div>\n",
              "<style scoped>\n",
              "    .dataframe tbody tr th:only-of-type {\n",
              "        vertical-align: middle;\n",
              "    }\n",
              "\n",
              "    .dataframe tbody tr th {\n",
              "        vertical-align: top;\n",
              "    }\n",
              "\n",
              "    .dataframe thead th {\n",
              "        text-align: right;\n",
              "    }\n",
              "</style>\n",
              "<table border=\"1\" class=\"dataframe\">\n",
              "  <thead>\n",
              "    <tr style=\"text-align: right;\">\n",
              "      <th></th>\n",
              "      <th>title</th>\n",
              "      <th>artist</th>\n",
              "      <th>genre_top</th>\n",
              "      <th>listens</th>\n",
              "      <th>favorites</th>\n",
              "      <th>interest</th>\n",
              "    </tr>\n",
              "    <tr>\n",
              "      <th>track_id</th>\n",
              "      <th></th>\n",
              "      <th></th>\n",
              "      <th></th>\n",
              "      <th></th>\n",
              "      <th></th>\n",
              "      <th></th>\n",
              "    </tr>\n",
              "  </thead>\n",
              "  <tbody>\n",
              "    <tr>\n",
              "      <th>140907</th>\n",
              "      <td>Worries</td>\n",
              "      <td>OpVious</td>\n",
              "      <td>NaN</td>\n",
              "      <td>12678</td>\n",
              "      <td>4</td>\n",
              "      <td>13977</td>\n",
              "    </tr>\n",
              "    <tr>\n",
              "      <th>92992</th>\n",
              "      <td>Analytix</td>\n",
              "      <td>Tab &amp; Anitek</td>\n",
              "      <td>NaN</td>\n",
              "      <td>1831</td>\n",
              "      <td>5</td>\n",
              "      <td>2888</td>\n",
              "    </tr>\n",
              "    <tr>\n",
              "      <th>123630</th>\n",
              "      <td>The Life and Death of The Party (Edit)</td>\n",
              "      <td>Pimpstrut Local #13</td>\n",
              "      <td>Soul-RnB</td>\n",
              "      <td>1997</td>\n",
              "      <td>1</td>\n",
              "      <td>2373</td>\n",
              "    </tr>\n",
              "    <tr>\n",
              "      <th>116209</th>\n",
              "      <td>Darkside Imperials</td>\n",
              "      <td>Toussaint Morrison</td>\n",
              "      <td>NaN</td>\n",
              "      <td>1414</td>\n",
              "      <td>1</td>\n",
              "      <td>1840</td>\n",
              "    </tr>\n",
              "    <tr>\n",
              "      <th>34661</th>\n",
              "      <td>Blender Tzivoni</td>\n",
              "      <td>51%</td>\n",
              "      <td>NaN</td>\n",
              "      <td>280</td>\n",
              "      <td>1</td>\n",
              "      <td>664</td>\n",
              "    </tr>\n",
              "    <tr>\n",
              "      <th>8175</th>\n",
              "      <td>polybag MFR</td>\n",
              "      <td>James Amoeba</td>\n",
              "      <td>NaN</td>\n",
              "      <td>116</td>\n",
              "      <td>1</td>\n",
              "      <td>225</td>\n",
              "    </tr>\n",
              "    <tr>\n",
              "      <th>15922</th>\n",
              "      <td>We're moving</td>\n",
              "      <td>Kukkiva Kunnas</td>\n",
              "      <td>NaN</td>\n",
              "      <td>287</td>\n",
              "      <td>0</td>\n",
              "      <td>760</td>\n",
              "    </tr>\n",
              "    <tr>\n",
              "      <th>146190</th>\n",
              "      <td>Revolutionary Letters Part 1</td>\n",
              "      <td>Symbol Of Subversion</td>\n",
              "      <td>NaN</td>\n",
              "      <td>233</td>\n",
              "      <td>0</td>\n",
              "      <td>283</td>\n",
              "    </tr>\n",
              "    <tr>\n",
              "      <th>71528</th>\n",
              "      <td>Laxatif Rudimentaire</td>\n",
              "      <td>Doctor Bux</td>\n",
              "      <td>Experimental</td>\n",
              "      <td>69</td>\n",
              "      <td>0</td>\n",
              "      <td>257</td>\n",
              "    </tr>\n",
              "    <tr>\n",
              "      <th>154096</th>\n",
              "      <td>To Be</td>\n",
              "      <td>Brian Routh</td>\n",
              "      <td>NaN</td>\n",
              "      <td>11</td>\n",
              "      <td>0</td>\n",
              "      <td>13</td>\n",
              "    </tr>\n",
              "  </tbody>\n",
              "</table>\n",
              "</div>"
            ],
            "text/plain": [
              "                                           title                artist  \\\n",
              "track_id                                                                 \n",
              "140907                                   Worries               OpVious   \n",
              "92992                                   Analytix          Tab & Anitek   \n",
              "123630    The Life and Death of The Party (Edit)   Pimpstrut Local #13   \n",
              "116209                        Darkside Imperials    Toussaint Morrison   \n",
              "34661                            Blender Tzivoni                   51%   \n",
              "8175                                 polybag MFR          James Amoeba   \n",
              "15922                               We're moving        Kukkiva Kunnas   \n",
              "146190              Revolutionary Letters Part 1  Symbol Of Subversion   \n",
              "71528                       Laxatif Rudimentaire            Doctor Bux   \n",
              "154096                                     To Be           Brian Routh   \n",
              "\n",
              "             genre_top  listens  favorites  interest  \n",
              "track_id                                              \n",
              "140907             NaN    12678          4     13977  \n",
              "92992              NaN     1831          5      2888  \n",
              "123630        Soul-RnB     1997          1      2373  \n",
              "116209             NaN     1414          1      1840  \n",
              "34661              NaN      280          1       664  \n",
              "8175               NaN      116          1       225  \n",
              "15922              NaN      287          0       760  \n",
              "146190             NaN      233          0       283  \n",
              "71528     Experimental       69          0       257  \n",
              "154096             NaN       11          0        13  "
            ]
          },
          "execution_count": 36,
          "metadata": {},
          "output_type": "execute_result"
        }
      ],
      "source": [
        "track_title_artist.loc[final_recommendations.index]"
      ]
    }
  ],
  "metadata": {
    "kernelspec": {
      "display_name": "Python [conda env:base] *",
      "language": "python",
      "name": "conda-base-py"
    },
    "language_info": {
      "codemirror_mode": {
        "name": "ipython",
        "version": 3
      },
      "file_extension": ".py",
      "mimetype": "text/x-python",
      "name": "python",
      "nbconvert_exporter": "python",
      "pygments_lexer": "ipython3",
      "version": "3.12.7"
    },
    "colab": {
      "provenance": []
    }
  },
  "nbformat": 4,
  "nbformat_minor": 5
}