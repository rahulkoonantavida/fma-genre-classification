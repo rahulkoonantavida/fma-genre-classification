{
  "cells": [
    {
      "cell_type": "markdown",
      "source": [
        "This notebook only shows how we extracted mel spectrogram features by overcoming limited storage.\n",
        "\n",
        "This notebook is not required to run as our optimized_model_data.csv file in Data folder already contains mel spectrogram which we added using this approach."
      ],
      "metadata": {
        "id": "gwBB42MMKSgJ"
      },
      "id": "gwBB42MMKSgJ"
    },
    {
      "cell_type": "code",
      "execution_count": null,
      "id": "d19bfef3-a019-4163-9cf5-c24a5557255b",
      "metadata": {
        "id": "d19bfef3-a019-4163-9cf5-c24a5557255b"
      },
      "outputs": [],
      "source": [
        "import pandas as pd\n",
        "import os\n",
        "import ast"
      ]
    },
    {
      "cell_type": "code",
      "execution_count": null,
      "id": "6ae91a2f-f707-4b80-8c71-0ed1f667e6ee",
      "metadata": {
        "id": "6ae91a2f-f707-4b80-8c71-0ed1f667e6ee"
      },
      "outputs": [],
      "source": [
        "import numpy as np"
      ]
    },
    {
      "cell_type": "code",
      "execution_count": null,
      "id": "14ba6270-baab-48a3-b22f-636d32f68104",
      "metadata": {
        "id": "14ba6270-baab-48a3-b22f-636d32f68104"
      },
      "outputs": [],
      "source": [
        "import warnings"
      ]
    },
    {
      "cell_type": "code",
      "execution_count": null,
      "id": "048453d0-0be6-4a07-842c-fbe04bcfe732",
      "metadata": {
        "id": "048453d0-0be6-4a07-842c-fbe04bcfe732"
      },
      "outputs": [],
      "source": [
        "from scipy import stats"
      ]
    },
    {
      "cell_type": "code",
      "execution_count": null,
      "id": "0fde2189-821b-4df8-b3f1-ff7b7e2ab0da",
      "metadata": {
        "id": "0fde2189-821b-4df8-b3f1-ff7b7e2ab0da"
      },
      "outputs": [],
      "source": [
        "import librosa"
      ]
    },
    {
      "cell_type": "code",
      "execution_count": null,
      "id": "89caa3fd-d694-4ffa-8911-c227a9baed03",
      "metadata": {
        "id": "89caa3fd-d694-4ffa-8911-c227a9baed03"
      },
      "outputs": [],
      "source": [
        "tracks_ids = pd.read_csv(\"../Data/optimized_model_data.csv\",index_col=[0],header=[0,1,2]).index"
      ]
    },
    {
      "cell_type": "markdown",
      "source": [
        "Getting path to audio files which are names according to track_id."
      ],
      "metadata": {
        "id": "iVU7H99uKloU"
      },
      "id": "iVU7H99uKloU"
    },
    {
      "cell_type": "code",
      "execution_count": null,
      "id": "e313b457-ab91-4214-9579-9741c9bde01a",
      "metadata": {
        "id": "e313b457-ab91-4214-9579-9741c9bde01a"
      },
      "outputs": [],
      "source": [
        "def get_audio_path(track_id):\n",
        "\n",
        "    tid_str = '{:06d}'.format(track_id)\n",
        "    print(os.path.join(\"fma_full\", tid_str[:3], tid_str + '.mp3'))\n",
        "    return os.path.join(\"fma_full\", tid_str[:3], tid_str + '.mp3')"
      ]
    },
    {
      "cell_type": "code",
      "execution_count": null,
      "id": "4fb38c2e-13db-4f07-98eb-b95d441a83b4",
      "metadata": {
        "id": "4fb38c2e-13db-4f07-98eb-b95d441a83b4"
      },
      "outputs": [],
      "source": [
        "def columns():\n",
        "    feature_sizes = dict(mel_spec=128)\n",
        "    moments = ('mean', 'std', 'skew', 'kurtosis', 'median', 'min', 'max')\n",
        "\n",
        "    columns = []\n",
        "    for name, size in feature_sizes.items():\n",
        "        for moment in moments:\n",
        "            it = ((name, moment, '{:02d}'.format(i+1)) for i in range(size))\n",
        "            columns.extend(it)\n",
        "\n",
        "    names = ('feature', 'statistics', 'number')\n",
        "    columns = pd.MultiIndex.from_tuples(columns, names=names)\n",
        "\n",
        "    return columns.sort_values()"
      ]
    },
    {
      "cell_type": "markdown",
      "source": [
        "Downloading single track -> Extracting and Saving Features -> Deleting track"
      ],
      "metadata": {
        "id": "Kic6p6S1KwJV"
      },
      "id": "Kic6p6S1KwJV"
    },
    {
      "cell_type": "code",
      "execution_count": null,
      "id": "22f4e659-4249-4bb6-ab5a-6f626b4bfea8",
      "metadata": {
        "id": "22f4e659-4249-4bb6-ab5a-6f626b4bfea8"
      },
      "outputs": [],
      "source": [
        "async def getFile(zipe,filepath):\n",
        "    return zipe.extract(filepath)"
      ]
    },
    {
      "cell_type": "code",
      "execution_count": null,
      "id": "f6f9f1ee-a419-444a-ae8d-604f2bc5ab03",
      "metadata": {
        "id": "f6f9f1ee-a419-444a-ae8d-604f2bc5ab03"
      },
      "outputs": [],
      "source": [
        "async def compute_features(tid,zipe):\n",
        "\n",
        "    features = pd.Series(index=columns(), dtype=np.float32, name=tid)\n",
        "\n",
        "    warnings.filterwarnings('error', module='librosa')\n",
        "\n",
        "    def feature_stats(name, values):\n",
        "        features[name, 'mean'] = np.mean(values, axis=1)\n",
        "        features[name, 'std'] = np.std(values, axis=1)\n",
        "        features[name, 'skew'] = stats.skew(values, axis=1)\n",
        "        features[name, 'kurtosis'] = stats.kurtosis(values, axis=1)\n",
        "        features[name, 'median'] = np.median(values, axis=1)\n",
        "        features[name, 'min'] = np.min(values, axis=1)\n",
        "        features[name, 'max'] = np.max(values, axis=1)\n",
        "\n",
        "    try:\n",
        "        filepath = get_audio_path(tid)\n",
        "        file = await getFile(zipe,filepath)\n",
        "        x, sr = librosa.load(filepath, sr=None, mono=True)  # kaiser_fast\n",
        "        stft = np.abs(librosa.stft(x, n_fft=2048, hop_length=512))\n",
        "        assert stft.shape[0] == 1 + 2048 // 2\n",
        "        assert np.ceil(len(x)/512) <= stft.shape[1] <= np.ceil(len(x)/512)+1\n",
        "        del x\n",
        "\n",
        "        f = librosa.feature.melspectrogram(S=stft)\n",
        "        feature_stats('mel_spec', f)\n",
        "        del stft\n",
        "        os.remove(\"./\"+filepath)\n",
        "\n",
        "    except Exception as e:\n",
        "        print('{}: {}'.format(tid, repr(e)))\n",
        "\n",
        "    return features"
      ]
    },
    {
      "cell_type": "code",
      "execution_count": null,
      "id": "00e86b33-8eb8-47fb-9e73-ff412aae80b9",
      "metadata": {
        "id": "00e86b33-8eb8-47fb-9e73-ff412aae80b9"
      },
      "outputs": [],
      "source": [
        "features = pd.DataFrame(index=tracks_ids,\n",
        "                            columns=columns(), dtype=np.float32)"
      ]
    },
    {
      "cell_type": "code",
      "execution_count": null,
      "id": "7c0c30c1-0f53-47cb-bced-6b78ec777e54",
      "metadata": {
        "id": "7c0c30c1-0f53-47cb-bced-6b78ec777e54"
      },
      "outputs": [],
      "source": [
        "async def getMelSpec():\n",
        "\n",
        "    tids = tracks_ids\n",
        "    from remotezip import RemoteZip\n",
        "    with RemoteZip('https://os.unil.cloud.switch.ch/fma/fma_full.zip') as zip:\n",
        "        for ids in tids:\n",
        "            f = await compute_features(ids,zip)\n",
        "            features.loc[f.name] = f\n",
        "\n",
        "        return features\n",
        "\n",
        "\n",
        "\n"
      ]
    },
    {
      "cell_type": "code",
      "execution_count": null,
      "id": "6b2facb8-343e-454e-982b-a37f0dd132ed",
      "metadata": {
        "scrolled": true,
        "id": "6b2facb8-343e-454e-982b-a37f0dd132ed",
        "outputId": "725e5341-2666-4548-96c2-b6a93b7d40b0"
      },
      "outputs": [
        {
          "name": "stdout",
          "output_type": "stream",
          "text": [
            "fma_full/000/000002.mp3\n",
            "fma_full/000/000003.mp3\n"
          ]
        }
      ],
      "source": [
        "mel_spec_features = await getMelSpec()"
      ]
    },
    {
      "cell_type": "markdown",
      "source": [
        "Saving extracted mel spectrogram features."
      ],
      "metadata": {
        "id": "IY2pMKpsLAzD"
      },
      "id": "IY2pMKpsLAzD"
    },
    {
      "cell_type": "code",
      "execution_count": null,
      "id": "f4065cb3-b573-46b0-8a02-c622d0c1912d",
      "metadata": {
        "id": "f4065cb3-b573-46b0-8a02-c622d0c1912d"
      },
      "outputs": [],
      "source": [
        "mel_spec_features.to_csv(\"../Data/mel_spec_features.csv\")"
      ]
    }
  ],
  "metadata": {
    "kernelspec": {
      "display_name": "Python [conda env:base] *",
      "language": "python",
      "name": "conda-base-py"
    },
    "language_info": {
      "codemirror_mode": {
        "name": "ipython",
        "version": 3
      },
      "file_extension": ".py",
      "mimetype": "text/x-python",
      "name": "python",
      "nbconvert_exporter": "python",
      "pygments_lexer": "ipython3",
      "version": "3.12.7"
    },
    "colab": {
      "provenance": []
    }
  },
  "nbformat": 4,
  "nbformat_minor": 5
}